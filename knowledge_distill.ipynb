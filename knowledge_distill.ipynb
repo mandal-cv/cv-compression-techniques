{
  "nbformat": 4,
  "nbformat_minor": 0,
  "metadata": {
    "colab": {
      "name": "knowledge-distill.ipynb",
      "provenance": []
    },
    "kernelspec": {
      "name": "python3",
      "display_name": "Python 3"
    },
    "language_info": {
      "name": "python"
    },
    "accelerator": "GPU"
  },
  "cells": [
    {
      "cell_type": "code",
      "metadata": {
        "id": "6mT42GFJOIN-"
      },
      "source": [
        "import tensorflow as tf\n",
        "from tensorflow import keras\n",
        "from tensorflow.keras import layers\n",
        "import numpy as np"
      ],
      "execution_count": null,
      "outputs": []
    },
    {
      "cell_type": "code",
      "metadata": {
        "id": "wbs5gIQ56lTw"
      },
      "source": [
        "\n",
        "class Distiller(keras.Model):\n",
        "    def __init__(self, student, teacher):\n",
        "        super(Distiller, self).__init__()\n",
        "        self.teacher = teacher\n",
        "        self.student = student\n",
        "\n",
        "    def compile(\n",
        "        self,\n",
        "        optimizer,\n",
        "        metrics,\n",
        "        student_loss_fn,\n",
        "        distillation_loss_fn,\n",
        "        alpha=0.1,\n",
        "        temperature=3,\n",
        "    ):\n",
        "        super(Distiller, self).compile(optimizer=optimizer, metrics=metrics)\n",
        "        self.student_loss_fn = student_loss_fn\n",
        "        self.distillation_loss_fn = distillation_loss_fn\n",
        "        self.alpha = alpha\n",
        "        self.temperature = temperature\n",
        "\n",
        "    def train_step(self, data):\n",
        "        # Unpack data\n",
        "        x, y = data\n",
        "\n",
        "        # Forward pass of teacher\n",
        "        teacher_predictions = self.teacher(x, training=False)\n",
        "\n",
        "        with tf.GradientTape() as tape:\n",
        "            # Forward pass of student\n",
        "            student_predictions = self.student(x, training=True)\n",
        "\n",
        "            # Compute losses\n",
        "            student_loss = self.student_loss_fn(y, student_predictions)\n",
        "            distillation_loss = self.distillation_loss_fn(\n",
        "                tf.nn.softmax(teacher_predictions / self.temperature, axis=1),\n",
        "                tf.nn.softmax(student_predictions / self.temperature, axis=1),\n",
        "            )\n",
        "            loss = self.alpha * student_loss + (1 - self.alpha) * distillation_loss\n",
        "\n",
        "        # Compute gradients\n",
        "        trainable_vars = self.student.trainable_variables\n",
        "        gradients = tape.gradient(loss, trainable_vars)\n",
        "\n",
        "        # Update weights\n",
        "        self.optimizer.apply_gradients(zip(gradients, trainable_vars))\n",
        "\n",
        "        # Update the metrics configured in `compile()`.\n",
        "        self.compiled_metrics.update_state(y, student_predictions)\n",
        "\n",
        "        # Return a dict of performance\n",
        "        results = {m.name: m.result() for m in self.metrics}\n",
        "        results.update(\n",
        "            {\"student_loss\": student_loss, \"distillation_loss\": distillation_loss}\n",
        "        )\n",
        "        return results\n",
        "\n",
        "    def test_step(self, data):\n",
        "        # Unpack the data\n",
        "        x, y = data\n",
        "\n",
        "        # Compute predictions\n",
        "        y_prediction = self.student(x, training=False)\n",
        "\n",
        "        # Calculate the loss\n",
        "        student_loss = self.student_loss_fn(y, y_prediction)\n",
        "\n",
        "        # Update the metrics.\n",
        "        self.compiled_metrics.update_state(y, y_prediction)\n",
        "\n",
        "        # Return a dict of performance\n",
        "        results = {m.name: m.result() for m in self.metrics}\n",
        "        results.update({\"student_loss\": student_loss})\n",
        "        return results\n"
      ],
      "execution_count": null,
      "outputs": []
    },
    {
      "cell_type": "markdown",
      "source": [
        "#MNIST"
      ],
      "metadata": {
        "id": "6SsV3InK3TG9"
      }
    },
    {
      "cell_type": "code",
      "metadata": {
        "id": "_fLuinUI6y-W"
      },
      "source": [
        "# Create the teacher\n",
        "tf.random.set_seed(1234)\n",
        "\n",
        "teacher = keras.Sequential(\n",
        "    [\n",
        "        keras.Input(shape=(28, 28, 1)),\n",
        "        layers.Conv2D(128, (3, 3), strides=(2, 2), padding=\"same\"),\n",
        "        layers.LeakyReLU(alpha=0.2),\n",
        "        layers.MaxPooling2D(pool_size=(2, 2), strides=(1, 1), padding=\"same\"),\n",
        "        layers.Conv2D(256, (3, 3), strides=(2, 2), padding=\"same\"),\n",
        "        layers.Flatten(),\n",
        "        layers.Dense(100),\n",
        "        layers.Dense(10),\n",
        "    ],\n",
        "    name=\"teacher\",\n",
        ")\n",
        "\n",
        "tf.random.set_seed(1234)\n",
        "\n",
        "teacher_asst = keras.Sequential(\n",
        "    [\n",
        "        keras.Input(shape=(28, 28, 1)),\n",
        "        layers.Conv2D(32, (3, 3), strides=(2, 2), padding=\"same\"),\n",
        "        layers.LeakyReLU(alpha=0.2),\n",
        "        layers.MaxPooling2D(pool_size=(2, 2), strides=(1, 1), padding=\"same\"),\n",
        "        layers.Conv2D(64, (3, 3), strides=(2, 2), padding=\"same\"),\n",
        "        layers.Flatten(),\n",
        "        layers.Dense(50),\n",
        "        layers.Dense(10),\n",
        "    ],\n",
        "    name=\"teacher\",\n",
        ")\n",
        "\n",
        "tf.random.set_seed(1234)\n",
        "\n",
        "# Create the student\n",
        "student = keras.Sequential(\n",
        "    [\n",
        "        keras.Input(shape=(28, 28, 1)),\n",
        "        layers.Conv2D(16, (3, 3), strides=(2, 2), padding=\"same\"),\n",
        "        layers.LeakyReLU(alpha=0.2),\n",
        "        layers.MaxPooling2D(pool_size=(2, 2), strides=(1, 1), padding=\"same\"),\n",
        "        layers.Conv2D(32, (3, 3), strides=(2, 2), padding=\"same\"),\n",
        "        layers.Flatten(),\n",
        "        layers.Dense(10),\n",
        "    ],\n",
        "    name=\"student\",\n",
        ")\n",
        "\n",
        "# Clone student for later comparison\n",
        "student_scratch = keras.models.clone_model(student)"
      ],
      "execution_count": null,
      "outputs": []
    },
    {
      "cell_type": "code",
      "metadata": {
        "colab": {
          "base_uri": "https://localhost:8080/"
        },
        "id": "otEln3AF68BU",
        "outputId": "b0747348-8fdb-4b97-fbb0-f42fb0a4609f"
      },
      "source": [
        "# Prepare the train and test dataset.\n",
        "batch_size = 64\n",
        "(x_train, y_train), (x_test, y_test) = keras.datasets.mnist.load_data()\n",
        "\n",
        "# Normalize data\n",
        "x_train = x_train.astype(\"float32\") / 255.0\n",
        "x_train = np.reshape(x_train, (-1, 28, 28, 1))\n",
        "\n",
        "x_test = x_test.astype(\"float32\") / 255.0\n",
        "x_test = np.reshape(x_test, (-1, 28, 28, 1))\n"
      ],
      "execution_count": null,
      "outputs": [
        {
          "output_type": "stream",
          "name": "stdout",
          "text": [
            "Downloading data from https://storage.googleapis.com/tensorflow/tf-keras-datasets/mnist.npz\n",
            "11493376/11490434 [==============================] - 0s 0us/step\n",
            "11501568/11490434 [==============================] - 0s 0us/step\n"
          ]
        }
      ]
    },
    {
      "cell_type": "code",
      "metadata": {
        "colab": {
          "base_uri": "https://localhost:8080/"
        },
        "id": "U52v0-fS8iQL",
        "outputId": "e961834b-0bdf-44f7-b76f-b4b48d9d76f1"
      },
      "source": [
        "teacher.summary()"
      ],
      "execution_count": null,
      "outputs": [
        {
          "output_type": "stream",
          "name": "stdout",
          "text": [
            "Model: \"teacher\"\n",
            "_________________________________________________________________\n",
            " Layer (type)                Output Shape              Param #   \n",
            "=================================================================\n",
            " conv2d_6 (Conv2D)           (None, 14, 14, 128)       1280      \n",
            "                                                                 \n",
            " leaky_re_lu_3 (LeakyReLU)   (None, 14, 14, 128)       0         \n",
            "                                                                 \n",
            " max_pooling2d_3 (MaxPooling  (None, 14, 14, 128)      0         \n",
            " 2D)                                                             \n",
            "                                                                 \n",
            " conv2d_7 (Conv2D)           (None, 7, 7, 256)         295168    \n",
            "                                                                 \n",
            " flatten_3 (Flatten)         (None, 12544)             0         \n",
            "                                                                 \n",
            " dense_5 (Dense)             (None, 100)               1254500   \n",
            "                                                                 \n",
            " dense_6 (Dense)             (None, 10)                1010      \n",
            "                                                                 \n",
            "=================================================================\n",
            "Total params: 1,551,958\n",
            "Trainable params: 1,551,958\n",
            "Non-trainable params: 0\n",
            "_________________________________________________________________\n"
          ]
        }
      ]
    },
    {
      "cell_type": "code",
      "metadata": {
        "colab": {
          "base_uri": "https://localhost:8080/"
        },
        "id": "Q3F0rjFgyIPt",
        "outputId": "78bb0785-49f3-471e-8dd8-25268d3ea9a0"
      },
      "source": [
        "teacher_asst.summary()"
      ],
      "execution_count": null,
      "outputs": [
        {
          "output_type": "stream",
          "name": "stdout",
          "text": [
            "Model: \"teacher\"\n",
            "_________________________________________________________________\n",
            " Layer (type)                Output Shape              Param #   \n",
            "=================================================================\n",
            " conv2d_8 (Conv2D)           (None, 14, 14, 32)        320       \n",
            "                                                                 \n",
            " leaky_re_lu_4 (LeakyReLU)   (None, 14, 14, 32)        0         \n",
            "                                                                 \n",
            " max_pooling2d_4 (MaxPooling  (None, 14, 14, 32)       0         \n",
            " 2D)                                                             \n",
            "                                                                 \n",
            " conv2d_9 (Conv2D)           (None, 7, 7, 64)          18496     \n",
            "                                                                 \n",
            " flatten_4 (Flatten)         (None, 3136)              0         \n",
            "                                                                 \n",
            " dense_7 (Dense)             (None, 50)                156850    \n",
            "                                                                 \n",
            " dense_8 (Dense)             (None, 10)                510       \n",
            "                                                                 \n",
            "=================================================================\n",
            "Total params: 176,176\n",
            "Trainable params: 176,176\n",
            "Non-trainable params: 0\n",
            "_________________________________________________________________\n"
          ]
        }
      ]
    },
    {
      "cell_type": "code",
      "metadata": {
        "colab": {
          "base_uri": "https://localhost:8080/"
        },
        "id": "zzmbZSSH8pHb",
        "outputId": "41af48ca-110f-409b-8b34-f054d9586cd5"
      },
      "source": [
        "student.summary()"
      ],
      "execution_count": null,
      "outputs": [
        {
          "output_type": "stream",
          "name": "stdout",
          "text": [
            "Model: \"student\"\n",
            "_________________________________________________________________\n",
            " Layer (type)                Output Shape              Param #   \n",
            "=================================================================\n",
            " conv2d_10 (Conv2D)          (None, 14, 14, 16)        160       \n",
            "                                                                 \n",
            " leaky_re_lu_5 (LeakyReLU)   (None, 14, 14, 16)        0         \n",
            "                                                                 \n",
            " max_pooling2d_5 (MaxPooling  (None, 14, 14, 16)       0         \n",
            " 2D)                                                             \n",
            "                                                                 \n",
            " conv2d_11 (Conv2D)          (None, 7, 7, 32)          4640      \n",
            "                                                                 \n",
            " flatten_5 (Flatten)         (None, 1568)              0         \n",
            "                                                                 \n",
            " dense_9 (Dense)             (None, 10)                15690     \n",
            "                                                                 \n",
            "=================================================================\n",
            "Total params: 20,490\n",
            "Trainable params: 20,490\n",
            "Non-trainable params: 0\n",
            "_________________________________________________________________\n"
          ]
        }
      ]
    },
    {
      "cell_type": "code",
      "metadata": {
        "colab": {
          "base_uri": "https://localhost:8080/"
        },
        "id": "bW6f4eV07OOy",
        "outputId": "692cc934-949b-44c2-bd88-cec36295deee"
      },
      "source": [
        "# Train teacher as usual\n",
        "teacher.compile(\n",
        "    optimizer=keras.optimizers.Adam(),\n",
        "    loss=keras.losses.SparseCategoricalCrossentropy(from_logits=True),\n",
        "    metrics=[keras.metrics.SparseCategoricalAccuracy()],\n",
        ")\n",
        "\n",
        "# Train and evaluate teacher on data.\n",
        "teacher.fit(x_train, y_train, epochs=5)\n",
        "teacher.evaluate(x_test, y_test)"
      ],
      "execution_count": null,
      "outputs": [
        {
          "output_type": "stream",
          "name": "stdout",
          "text": [
            "Epoch 1/5\n",
            "1875/1875 [==============================] - 24s 8ms/step - loss: 0.1471 - sparse_categorical_accuracy: 0.9553\n",
            "Epoch 2/5\n",
            "1875/1875 [==============================] - 15s 8ms/step - loss: 0.0887 - sparse_categorical_accuracy: 0.9731\n",
            "Epoch 3/5\n",
            "1875/1875 [==============================] - 15s 8ms/step - loss: 0.0759 - sparse_categorical_accuracy: 0.9770\n",
            "Epoch 4/5\n",
            "1875/1875 [==============================] - 15s 8ms/step - loss: 0.0687 - sparse_categorical_accuracy: 0.9792\n",
            "Epoch 5/5\n",
            "1875/1875 [==============================] - 15s 8ms/step - loss: 0.0601 - sparse_categorical_accuracy: 0.9818\n",
            "313/313 [==============================] - 2s 5ms/step - loss: 0.1013 - sparse_categorical_accuracy: 0.9700\n"
          ]
        },
        {
          "output_type": "execute_result",
          "data": {
            "text/plain": [
              "[0.10134230554103851, 0.9700000286102295]"
            ]
          },
          "metadata": {},
          "execution_count": 9
        }
      ]
    },
    {
      "cell_type": "code",
      "metadata": {
        "id": "CVM3gUO3_AFI"
      },
      "source": [
        "tf.random.set_seed(1234)\n",
        "\n",
        "teacher_asst = keras.Sequential(\n",
        "    [\n",
        "        keras.Input(shape=(28, 28, 1)),\n",
        "        layers.Conv2D(32, (3, 3), strides=(2, 2), padding=\"same\"),\n",
        "        layers.LeakyReLU(alpha=0.2),\n",
        "        layers.MaxPooling2D(pool_size=(2, 2), strides=(1, 1), padding=\"same\"),\n",
        "        layers.Conv2D(64, (3, 3), strides=(2, 2), padding=\"same\"),\n",
        "        layers.Flatten(),\n",
        "        layers.Dense(50),\n",
        "        layers.Dense(10),\n",
        "    ],\n",
        "    name=\"teacher\",\n",
        ")\n",
        "\n",
        "tf.random.set_seed(1234)\n",
        "\n",
        "# Create the student\n",
        "student = keras.Sequential(\n",
        "    [\n",
        "        keras.Input(shape=(28, 28, 1)),\n",
        "        layers.Conv2D(16, (3, 3), strides=(2, 2), padding=\"same\"),\n",
        "        layers.LeakyReLU(alpha=0.2),\n",
        "        layers.MaxPooling2D(pool_size=(2, 2), strides=(1, 1), padding=\"same\"),\n",
        "        layers.Conv2D(32, (3, 3), strides=(2, 2), padding=\"same\"),\n",
        "        layers.Flatten(),\n",
        "        layers.Dense(10),\n",
        "    ],\n",
        "    name=\"student\",\n",
        ")"
      ],
      "execution_count": null,
      "outputs": []
    },
    {
      "cell_type": "code",
      "metadata": {
        "colab": {
          "base_uri": "https://localhost:8080/"
        },
        "id": "1SZvOgMM6_Bk",
        "outputId": "5e264927-96c0-448f-8088-4ffd391d7310"
      },
      "source": [
        "# Initialize and compile distiller\n",
        "distiller = Distiller(student=teacher_asst, teacher=teacher)\n",
        "distiller.compile(\n",
        "    optimizer=keras.optimizers.Adam(),\n",
        "    metrics=[keras.metrics.SparseCategoricalAccuracy()],\n",
        "    student_loss_fn=keras.losses.SparseCategoricalCrossentropy(from_logits=True),\n",
        "    distillation_loss_fn=keras.losses.KLDivergence(),\n",
        "    alpha=0.1,\n",
        "    temperature=40,\n",
        ")\n",
        "\n",
        "# Distill teacher to student\n",
        "distiller.fit(x_train, y_train, epochs=3)\n",
        "\n",
        "# Evaluate student on test dataset\n",
        "distiller.evaluate(x_test, y_test)"
      ],
      "execution_count": null,
      "outputs": [
        {
          "output_type": "stream",
          "name": "stdout",
          "text": [
            "Epoch 1/3\n",
            "1875/1875 [==============================] - 14s 7ms/step - sparse_categorical_accuracy: 0.9500 - student_loss: 0.1650 - distillation_loss: 0.0042\n",
            "Epoch 2/3\n",
            "1875/1875 [==============================] - 14s 7ms/step - sparse_categorical_accuracy: 0.9769 - student_loss: 0.0775 - distillation_loss: 0.0022\n",
            "Epoch 3/3\n",
            "1875/1875 [==============================] - 14s 7ms/step - sparse_categorical_accuracy: 0.9802 - student_loss: 0.0645 - distillation_loss: 0.0019\n",
            "313/313 [==============================] - 1s 4ms/step - sparse_categorical_accuracy: 0.9798 - student_loss: 0.0694\n"
          ]
        },
        {
          "output_type": "execute_result",
          "data": {
            "text/plain": [
              "[0.9797999858856201, 0.0026290188543498516]"
            ]
          },
          "metadata": {},
          "execution_count": 54
        }
      ]
    },
    {
      "cell_type": "code",
      "metadata": {
        "colab": {
          "base_uri": "https://localhost:8080/"
        },
        "id": "doLhNL9vyUzV",
        "outputId": "db449994-9cd4-4bed-bca6-37b26eb10314"
      },
      "source": [
        "# Initialize and compile distiller\n",
        "distiller = Distiller(student=student, teacher=distiller.student)\n",
        "distiller.compile(\n",
        "    optimizer=keras.optimizers.Adam(),\n",
        "    metrics=[keras.metrics.SparseCategoricalAccuracy()],\n",
        "    student_loss_fn=keras.losses.SparseCategoricalCrossentropy(from_logits=True),\n",
        "    distillation_loss_fn=keras.losses.KLDivergence(),\n",
        "    alpha=0.1,\n",
        "    temperature=40,\n",
        ")\n",
        "\n",
        "# Distill teacher to student\n",
        "distiller.fit(x_train, y_train, epochs=3)\n",
        "\n",
        "# Evaluate student on test dataset\n",
        "distiller.evaluate(x_test, y_test)"
      ],
      "execution_count": null,
      "outputs": [
        {
          "output_type": "stream",
          "name": "stdout",
          "text": [
            "Epoch 1/3\n",
            "1875/1875 [==============================] - 10s 5ms/step - sparse_categorical_accuracy: 0.9259 - student_loss: 0.2447 - distillation_loss: 0.0056\n",
            "Epoch 2/3\n",
            "1875/1875 [==============================] - 9s 5ms/step - sparse_categorical_accuracy: 0.9694 - student_loss: 0.1018 - distillation_loss: 0.0021\n",
            "Epoch 3/3\n",
            "1875/1875 [==============================] - 10s 5ms/step - sparse_categorical_accuracy: 0.9763 - student_loss: 0.0782 - distillation_loss: 0.0015\n",
            "313/313 [==============================] - 1s 3ms/step - sparse_categorical_accuracy: 0.9758 - student_loss: 0.0797\n"
          ]
        },
        {
          "output_type": "execute_result",
          "data": {
            "text/plain": [
              "[0.9757999777793884, 0.005773582495748997]"
            ]
          },
          "metadata": {},
          "execution_count": 55
        }
      ]
    },
    {
      "cell_type": "code",
      "metadata": {
        "id": "5FCf-4GfzIMV"
      },
      "source": [
        "tf.random.set_seed(1234)\n",
        "\n",
        "# Create the student\n",
        "student = keras.Sequential(\n",
        "    [\n",
        "        keras.Input(shape=(28, 28, 1)),\n",
        "        layers.Conv2D(16, (3, 3), strides=(2, 2), padding=\"same\"),\n",
        "        layers.LeakyReLU(alpha=0.2),\n",
        "        layers.MaxPooling2D(pool_size=(2, 2), strides=(1, 1), padding=\"same\"),\n",
        "        layers.Conv2D(32, (3, 3), strides=(2, 2), padding=\"same\"),\n",
        "        layers.Flatten(),\n",
        "        layers.Dense(10),\n",
        "    ],\n",
        "    name=\"student\",\n",
        ")"
      ],
      "execution_count": null,
      "outputs": []
    },
    {
      "cell_type": "code",
      "metadata": {
        "colab": {
          "base_uri": "https://localhost:8080/"
        },
        "id": "zPFvBA2hzEqu",
        "outputId": "d5565f62-b6aa-442f-9849-e50835ab7980"
      },
      "source": [
        "# Initialize and compile distiller\n",
        "distiller = Distiller(student=student, teacher=teacher)\n",
        "distiller.compile(\n",
        "    optimizer=keras.optimizers.Adam(),\n",
        "    metrics=[keras.metrics.SparseCategoricalAccuracy()],\n",
        "    student_loss_fn=keras.losses.SparseCategoricalCrossentropy(from_logits=True),\n",
        "    distillation_loss_fn=keras.losses.KLDivergence(),\n",
        "    alpha=0.1,\n",
        "    temperature=40,\n",
        ")\n",
        "\n",
        "# Distill teacher to student\n",
        "distiller.fit(x_train, y_train, epochs=3)\n",
        "\n",
        "# Evaluate student on test dataset\n",
        "distiller.evaluate(x_test, y_test)"
      ],
      "execution_count": null,
      "outputs": [
        {
          "output_type": "stream",
          "name": "stdout",
          "text": [
            "Epoch 1/3\n",
            "1875/1875 [==============================] - 13s 7ms/step - sparse_categorical_accuracy: 0.9262 - student_loss: 0.2438 - distillation_loss: 0.0064\n",
            "Epoch 2/3\n",
            "1875/1875 [==============================] - 12s 7ms/step - sparse_categorical_accuracy: 0.9698 - student_loss: 0.1013 - distillation_loss: 0.0031\n",
            "Epoch 3/3\n",
            "1875/1875 [==============================] - 12s 7ms/step - sparse_categorical_accuracy: 0.9760 - student_loss: 0.0785 - distillation_loss: 0.0024\n",
            "313/313 [==============================] - 1s 3ms/step - sparse_categorical_accuracy: 0.9768 - student_loss: 0.0734\n"
          ]
        },
        {
          "output_type": "execute_result",
          "data": {
            "text/plain": [
              "[0.9768000245094299, 0.004563521593809128]"
            ]
          },
          "metadata": {},
          "execution_count": 57
        }
      ]
    },
    {
      "cell_type": "code",
      "metadata": {
        "colab": {
          "base_uri": "https://localhost:8080/"
        },
        "id": "zv8V0dUw7JRk",
        "outputId": "90a09a01-46ca-4171-869d-0b055e3cb0ce"
      },
      "source": [
        "# Train student\n",
        "student_scratch.compile(\n",
        "    optimizer=keras.optimizers.Adam(),\n",
        "    loss=keras.losses.SparseCategoricalCrossentropy(from_logits=True),\n",
        "    metrics=[keras.metrics.SparseCategoricalAccuracy()],\n",
        ")\n",
        "\n",
        "# Train and evaluate student trained from scratch.\n",
        "student_scratch.fit(x_train, y_train, epochs=3)\n",
        "student_scratch.evaluate(x_test, y_test)"
      ],
      "execution_count": null,
      "outputs": [
        {
          "output_type": "stream",
          "name": "stdout",
          "text": [
            "Epoch 1/3\n",
            "1875/1875 [==============================] - 8s 4ms/step - loss: 0.2305 - sparse_categorical_accuracy: 0.9307\n",
            "Epoch 2/3\n",
            "1875/1875 [==============================] - 8s 4ms/step - loss: 0.0925 - sparse_categorical_accuracy: 0.9723\n",
            "Epoch 3/3\n",
            "1875/1875 [==============================] - 7s 4ms/step - loss: 0.0742 - sparse_categorical_accuracy: 0.9778\n",
            "313/313 [==============================] - 1s 4ms/step - loss: 0.0774 - sparse_categorical_accuracy: 0.9755\n"
          ]
        },
        {
          "output_type": "execute_result",
          "data": {
            "text/plain": [
              "[0.07737163454294205, 0.9754999876022339]"
            ]
          },
          "metadata": {},
          "execution_count": 59
        }
      ]
    },
    {
      "cell_type": "markdown",
      "metadata": {
        "id": "80nDFYU9COAe"
      },
      "source": [
        "#CIFAR 10"
      ]
    },
    {
      "cell_type": "code",
      "metadata": {
        "id": "y6oaKT8_9Gby",
        "colab": {
          "base_uri": "https://localhost:8080/"
        },
        "outputId": "58cab19a-47e3-4f89-c62e-ef72f78f7682"
      },
      "source": [
        "# Prepare the train and test dataset.\n",
        "batch_size = 128\n",
        "(x_train, y_train), (x_test, y_test) = keras.datasets.cifar10.load_data()\n",
        "\n",
        "# Normalize data\n",
        "x_train = x_train.astype(\"float32\") / 255.0\n",
        "x_train = np.reshape(x_train, (-1, 32, 32, 3))\n",
        "\n",
        "x_test = x_test.astype(\"float32\") / 255.0\n",
        "x_test = np.reshape(x_test, (-1, 32, 32, 3))\n"
      ],
      "execution_count": null,
      "outputs": [
        {
          "output_type": "stream",
          "name": "stdout",
          "text": [
            "Downloading data from https://www.cs.toronto.edu/~kriz/cifar-10-python.tar.gz\n",
            "170500096/170498071 [==============================] - 4s 0us/step\n",
            "170508288/170498071 [==============================] - 4s 0us/step\n"
          ]
        }
      ]
    },
    {
      "cell_type": "code",
      "metadata": {
        "id": "jlPyNEsMCYLm"
      },
      "source": [
        "# Create the teacher\n",
        "tf.random.set_seed(1234)\n",
        "teacher = keras.Sequential(\n",
        "    [\n",
        "        keras.Input(shape=(32, 32, 3)),\n",
        "        layers.Conv2D(128, (3, 3), strides=(2, 2), padding=\"same\"),\n",
        "        layers.LeakyReLU(alpha=0.2),\n",
        "        layers.Conv2D(128, (3, 3), strides=(2, 2), padding=\"same\"),\n",
        "        layers.LeakyReLU(alpha=0.2),\n",
        "        layers.MaxPooling2D(pool_size=(2, 2), strides=(1, 1), padding=\"same\"),\n",
        "        layers.Conv2D(256, (3, 3), strides=(2, 2), padding=\"same\"),\n",
        "        layers.LeakyReLU(alpha=0.2),\n",
        "        layers.Conv2D(256, (3, 3), strides=(2, 2), padding=\"same\"),\n",
        "        layers.LeakyReLU(alpha=0.2),\n",
        "        layers.MaxPooling2D(pool_size=(2, 2), strides=(1, 1), padding=\"same\"),\n",
        "        layers.Flatten(),\n",
        "        layers.Dense(256),\n",
        "        layers.Dropout(0.5),\n",
        "        layers.Dense(256),\n",
        "        layers.Dense(10),\n",
        "    ],\n",
        "    name=\"teacher\",\n",
        ")\n",
        "\n",
        "tf.random.set_seed(1234)\n",
        "\n",
        "teacher_asst = keras.Sequential(\n",
        "    [\n",
        "        keras.Input(shape=(32, 32, 3)),\n",
        "        layers.Conv2D(64, (3, 3), strides=(2, 2), padding=\"same\"),\n",
        "        layers.LeakyReLU(alpha=0.2),\n",
        "        layers.Conv2D(128, (3, 3), strides=(2, 2), padding=\"same\"),\n",
        "        layers.LeakyReLU(alpha=0.2),\n",
        "        layers.MaxPooling2D(pool_size=(2, 2), strides=(1, 1), padding=\"same\"),\n",
        "        layers.Conv2D(256, (3, 3), strides=(2, 2), padding=\"same\"),\n",
        "        layers.LeakyReLU(alpha=0.2),\n",
        "        layers.Conv2D(256, (3, 3), strides=(2, 2), padding=\"same\"),\n",
        "        layers.LeakyReLU(alpha=0.2),\n",
        "        layers.MaxPooling2D(pool_size=(2, 2), strides=(1, 1), padding=\"same\"),\n",
        "        layers.Flatten(),\n",
        "        layers.Dense(128),\n",
        "        layers.Dropout(0.5),\n",
        "        layers.Dense(128),\n",
        "        layers.Dense(10),\n",
        "    ],\n",
        "    name=\"teacher\",\n",
        ")\n",
        "\n",
        "# Create the student\n",
        "tf.random.set_seed(1234)\n",
        "student = keras.Sequential(\n",
        "    [\n",
        "        keras.Input(shape=(32, 32, 3)),\n",
        "        layers.Conv2D(64, (3, 3), strides=(2, 2), padding=\"same\"),\n",
        "        layers.LeakyReLU(alpha=0.2),\n",
        "        layers.Conv2D(64, (3, 3), strides=(2, 2), padding=\"same\"),\n",
        "        layers.LeakyReLU(alpha=0.2),\n",
        "        layers.MaxPooling2D(pool_size=(2, 2), strides=(1, 1), padding=\"same\"),\n",
        "        layers.Conv2D(128, (3, 3), strides=(2, 2), padding=\"same\"),\n",
        "        layers.LeakyReLU(alpha=0.2),\n",
        "        layers.Conv2D(128, (3, 3), strides=(2, 2), padding=\"same\"),\n",
        "        layers.LeakyReLU(alpha=0.2),\n",
        "        layers.MaxPooling2D(pool_size=(2, 2), strides=(1, 1), padding=\"same\"),\n",
        "        layers.Flatten(),\n",
        "        layers.Dense(128),\n",
        "        layers.Dropout(0.5),\n",
        "        layers.Dense(128),\n",
        "        layers.Dense(10),\n",
        "    ],\n",
        "    name=\"student\",\n",
        ")\n",
        "\n",
        "# Clone student for later comparison\n",
        "student_scratch = keras.models.clone_model(student)"
      ],
      "execution_count": null,
      "outputs": []
    },
    {
      "cell_type": "code",
      "metadata": {
        "colab": {
          "base_uri": "https://localhost:8080/"
        },
        "id": "4lk4JmVOCfg-",
        "outputId": "67018de0-4c51-416c-d587-868edc58065c"
      },
      "source": [
        "# Train teacher as usual\n",
        "teacher.compile(\n",
        "    optimizer=keras.optimizers.Adam(),\n",
        "    loss=keras.losses.SparseCategoricalCrossentropy(from_logits=True),\n",
        "    metrics=[keras.metrics.SparseCategoricalAccuracy()],\n",
        ")\n",
        "\n",
        "# Train and evaluate teacher on data.\n",
        "teacher.fit(x_train, y_train, epochs=10)\n",
        "teacher.evaluate(x_test, y_test)"
      ],
      "execution_count": null,
      "outputs": [
        {
          "output_type": "stream",
          "name": "stdout",
          "text": [
            "Epoch 1/10\n",
            "1563/1563 [==============================] - 22s 14ms/step - loss: 1.4635 - sparse_categorical_accuracy: 0.4707\n",
            "Epoch 2/10\n",
            "1563/1563 [==============================] - 21s 14ms/step - loss: 1.0665 - sparse_categorical_accuracy: 0.6291\n",
            "Epoch 3/10\n",
            "1563/1563 [==============================] - 21s 14ms/step - loss: 0.9037 - sparse_categorical_accuracy: 0.6872\n",
            "Epoch 4/10\n",
            "1563/1563 [==============================] - 21s 14ms/step - loss: 0.7861 - sparse_categorical_accuracy: 0.7304\n",
            "Epoch 5/10\n",
            "1563/1563 [==============================] - 21s 14ms/step - loss: 0.6892 - sparse_categorical_accuracy: 0.7611\n",
            "Epoch 6/10\n",
            "1563/1563 [==============================] - 21s 14ms/step - loss: 0.6023 - sparse_categorical_accuracy: 0.7933\n",
            "Epoch 7/10\n",
            "1563/1563 [==============================] - 21s 14ms/step - loss: 0.5365 - sparse_categorical_accuracy: 0.8157\n",
            "Epoch 8/10\n",
            "1563/1563 [==============================] - 21s 14ms/step - loss: 0.4690 - sparse_categorical_accuracy: 0.8417\n",
            "Epoch 9/10\n",
            "1563/1563 [==============================] - 21s 14ms/step - loss: 0.4191 - sparse_categorical_accuracy: 0.8584\n",
            "Epoch 10/10\n",
            "1563/1563 [==============================] - 21s 14ms/step - loss: 0.3858 - sparse_categorical_accuracy: 0.8708\n",
            "313/313 [==============================] - 2s 7ms/step - loss: 1.2078 - sparse_categorical_accuracy: 0.6980\n"
          ]
        },
        {
          "output_type": "execute_result",
          "data": {
            "text/plain": [
              "[1.2077758312225342, 0.6980000138282776]"
            ]
          },
          "metadata": {},
          "execution_count": 67
        }
      ]
    },
    {
      "cell_type": "code",
      "metadata": {
        "id": "2JVp7K2x9fxt"
      },
      "source": [
        "tf.random.set_seed(1234)\n",
        "\n",
        "teacher_asst = keras.Sequential(\n",
        "    [\n",
        "        keras.Input(shape=(32, 32, 3)),\n",
        "        layers.Conv2D(64, (3, 3), strides=(2, 2), padding=\"same\"),\n",
        "        layers.LeakyReLU(alpha=0.2),\n",
        "        layers.Conv2D(128, (3, 3), strides=(2, 2), padding=\"same\"),\n",
        "        layers.LeakyReLU(alpha=0.2),\n",
        "        layers.MaxPooling2D(pool_size=(2, 2), strides=(1, 1), padding=\"same\"),\n",
        "        layers.Conv2D(256, (3, 3), strides=(2, 2), padding=\"same\"),\n",
        "        layers.LeakyReLU(alpha=0.2),\n",
        "        layers.Conv2D(256, (3, 3), strides=(2, 2), padding=\"same\"),\n",
        "        layers.LeakyReLU(alpha=0.2),\n",
        "        layers.MaxPooling2D(pool_size=(2, 2), strides=(1, 1), padding=\"same\"),\n",
        "        layers.Flatten(),\n",
        "        layers.Dense(128),\n",
        "        layers.Dropout(0.5),\n",
        "        layers.Dense(128),\n",
        "        layers.Dense(10),\n",
        "    ],\n",
        "    name=\"teacher\",\n",
        ")\n",
        "\n",
        "# Create the student\n",
        "tf.random.set_seed(1234)\n",
        "student = keras.Sequential(\n",
        "    [\n",
        "        keras.Input(shape=(32, 32, 3)),\n",
        "        layers.Conv2D(64, (3, 3), strides=(2, 2), padding=\"same\"),\n",
        "        layers.LeakyReLU(alpha=0.2),\n",
        "        layers.Conv2D(64, (3, 3), strides=(2, 2), padding=\"same\"),\n",
        "        layers.LeakyReLU(alpha=0.2),\n",
        "        layers.MaxPooling2D(pool_size=(2, 2), strides=(1, 1), padding=\"same\"),\n",
        "        layers.Conv2D(128, (3, 3), strides=(2, 2), padding=\"same\"),\n",
        "        layers.LeakyReLU(alpha=0.2),\n",
        "        layers.Conv2D(128, (3, 3), strides=(2, 2), padding=\"same\"),\n",
        "        layers.LeakyReLU(alpha=0.2),\n",
        "        layers.MaxPooling2D(pool_size=(2, 2), strides=(1, 1), padding=\"same\"),\n",
        "        layers.Flatten(),\n",
        "        layers.Dense(128),\n",
        "        layers.Dropout(0.5),\n",
        "        layers.Dense(128),\n",
        "        layers.Dense(10),\n",
        "    ],\n",
        "    name=\"student\",\n",
        ")"
      ],
      "execution_count": null,
      "outputs": []
    },
    {
      "cell_type": "code",
      "metadata": {
        "colab": {
          "base_uri": "https://localhost:8080/"
        },
        "id": "3TpS_l-Q9mW8",
        "outputId": "65ff2e85-3f58-4db2-a2b0-525ba99e13ff"
      },
      "source": [
        "# Initialize and compile distiller\n",
        "distiller = Distiller(student=teacher_asst, teacher=teacher)\n",
        "distiller.compile(\n",
        "    optimizer=keras.optimizers.Adam(),\n",
        "    metrics=[keras.metrics.SparseCategoricalAccuracy()],\n",
        "    student_loss_fn=keras.losses.SparseCategoricalCrossentropy(from_logits=True),\n",
        "    distillation_loss_fn=keras.losses.KLDivergence(),\n",
        "    alpha=0.1,\n",
        "    temperature=40,\n",
        ")\n",
        "\n",
        "# Distill teacher to student\n",
        "distiller.fit(x_train, y_train, epochs=5)\n",
        "\n",
        "# Evaluate student on test dataset\n",
        "distiller.evaluate(x_test, y_test)"
      ],
      "execution_count": null,
      "outputs": [
        {
          "output_type": "stream",
          "name": "stdout",
          "text": [
            "Epoch 1/5\n",
            "1563/1563 [==============================] - 26s 16ms/step - sparse_categorical_accuracy: 0.4814 - student_loss: 1.4389 - distillation_loss: 0.0094\n",
            "Epoch 2/5\n",
            "1563/1563 [==============================] - 24s 16ms/step - sparse_categorical_accuracy: 0.6428 - student_loss: 1.0356 - distillation_loss: 0.0066\n",
            "Epoch 3/5\n",
            "1563/1563 [==============================] - 24s 16ms/step - sparse_categorical_accuracy: 0.7009 - student_loss: 0.8738 - distillation_loss: 0.0055\n",
            "Epoch 4/5\n",
            "1563/1563 [==============================] - 25s 16ms/step - sparse_categorical_accuracy: 0.7465 - student_loss: 0.7407 - distillation_loss: 0.0048\n",
            "Epoch 5/5\n",
            "1563/1563 [==============================] - 24s 15ms/step - sparse_categorical_accuracy: 0.7802 - student_loss: 0.6393 - distillation_loss: 0.0044\n",
            "313/313 [==============================] - 2s 6ms/step - sparse_categorical_accuracy: 0.7040 - student_loss: 0.9190\n"
          ]
        },
        {
          "output_type": "execute_result",
          "data": {
            "text/plain": [
              "[0.7039999961853027, 1.1463186740875244]"
            ]
          },
          "metadata": {},
          "execution_count": 99
        }
      ]
    },
    {
      "cell_type": "code",
      "metadata": {
        "colab": {
          "base_uri": "https://localhost:8080/"
        },
        "id": "hzIc-0Dn9vBU",
        "outputId": "f466ff1f-ce30-4c55-ff12-485dd2ae3c99"
      },
      "source": [
        "# Initialize and compile distiller\n",
        "distiller = Distiller(student=student, teacher=distiller.student)\n",
        "distiller.compile(\n",
        "    optimizer=keras.optimizers.Adam(),\n",
        "    metrics=[keras.metrics.SparseCategoricalAccuracy()],\n",
        "    student_loss_fn=keras.losses.SparseCategoricalCrossentropy(from_logits=True),\n",
        "    distillation_loss_fn=keras.losses.KLDivergence(),\n",
        "    alpha=0.1,\n",
        "    temperature=40,\n",
        ")\n",
        "\n",
        "# Distill teacher to student\n",
        "distiller.fit(x_train, y_train, epochs=5)\n",
        "\n",
        "# Evaluate student on test dataset\n",
        "distiller.evaluate(x_test, y_test)"
      ],
      "execution_count": null,
      "outputs": [
        {
          "output_type": "stream",
          "name": "stdout",
          "text": [
            "Epoch 1/5\n",
            "1563/1563 [==============================] - 19s 12ms/step - sparse_categorical_accuracy: 0.4704 - student_loss: 1.4605 - distillation_loss: 0.0042\n",
            "Epoch 2/5\n",
            "1563/1563 [==============================] - 18s 11ms/step - sparse_categorical_accuracy: 0.6291 - student_loss: 1.0660 - distillation_loss: 0.0027\n",
            "Epoch 3/5\n",
            "1563/1563 [==============================] - 17s 11ms/step - sparse_categorical_accuracy: 0.6872 - student_loss: 0.9066 - distillation_loss: 0.0021\n",
            "Epoch 4/5\n",
            "1563/1563 [==============================] - 17s 11ms/step - sparse_categorical_accuracy: 0.7218 - student_loss: 0.7948 - distillation_loss: 0.0019\n",
            "Epoch 5/5\n",
            "1563/1563 [==============================] - 17s 11ms/step - sparse_categorical_accuracy: 0.7524 - student_loss: 0.7145 - distillation_loss: 0.0018\n",
            "313/313 [==============================] - 2s 4ms/step - sparse_categorical_accuracy: 0.7027 - student_loss: 0.8815\n"
          ]
        },
        {
          "output_type": "execute_result",
          "data": {
            "text/plain": [
              "[0.7027000188827515, 1.6460639238357544]"
            ]
          },
          "metadata": {},
          "execution_count": 100
        }
      ]
    },
    {
      "cell_type": "code",
      "metadata": {
        "id": "1J3sX_uZ96J5"
      },
      "source": [
        "# Create the student\n",
        "tf.random.set_seed(1234)\n",
        "student = keras.Sequential(\n",
        "    [\n",
        "        keras.Input(shape=(32, 32, 3)),\n",
        "        layers.Conv2D(64, (3, 3), strides=(2, 2), padding=\"same\"),\n",
        "        layers.LeakyReLU(alpha=0.2),\n",
        "        layers.Conv2D(64, (3, 3), strides=(2, 2), padding=\"same\"),\n",
        "        layers.LeakyReLU(alpha=0.2),\n",
        "        layers.MaxPooling2D(pool_size=(2, 2), strides=(1, 1), padding=\"same\"),\n",
        "        layers.Conv2D(128, (3, 3), strides=(2, 2), padding=\"same\"),\n",
        "        layers.LeakyReLU(alpha=0.2),\n",
        "        layers.Conv2D(128, (3, 3), strides=(2, 2), padding=\"same\"),\n",
        "        layers.LeakyReLU(alpha=0.2),\n",
        "        layers.MaxPooling2D(pool_size=(2, 2), strides=(1, 1), padding=\"same\"),\n",
        "        layers.Flatten(),\n",
        "        layers.Dense(128),\n",
        "        layers.Dropout(0.5),\n",
        "        layers.Dense(128),\n",
        "        layers.Dense(10),\n",
        "    ],\n",
        "    name=\"student\",\n",
        ")"
      ],
      "execution_count": null,
      "outputs": []
    },
    {
      "cell_type": "code",
      "metadata": {
        "colab": {
          "base_uri": "https://localhost:8080/"
        },
        "id": "KBHjE-3m90vd",
        "outputId": "6a702b0d-50ab-4467-dd45-e2d31b5c3593"
      },
      "source": [
        "# Initialize and compile distiller\n",
        "distiller = Distiller(student=student, teacher=teacher)\n",
        "distiller.compile(\n",
        "    optimizer=keras.optimizers.Adam(),\n",
        "    metrics=[keras.metrics.SparseCategoricalAccuracy()],\n",
        "    student_loss_fn=keras.losses.SparseCategoricalCrossentropy(from_logits=True),\n",
        "    distillation_loss_fn=keras.losses.KLDivergence(),\n",
        "    alpha=0.1,\n",
        "    temperature=40,\n",
        ")\n",
        "\n",
        "# Distill teacher to student\n",
        "distiller.fit(x_train, y_train, epochs=5)\n",
        "\n",
        "# Evaluate student on test dataset\n",
        "distiller.evaluate(x_test, y_test)"
      ],
      "execution_count": null,
      "outputs": [
        {
          "output_type": "stream",
          "name": "stdout",
          "text": [
            "Epoch 1/5\n",
            "1563/1563 [==============================] - 19s 11ms/step - sparse_categorical_accuracy: 0.4712 - student_loss: 1.4595 - distillation_loss: 0.0096\n",
            "Epoch 2/5\n",
            "1563/1563 [==============================] - 17s 11ms/step - sparse_categorical_accuracy: 0.6246 - student_loss: 1.0737 - distillation_loss: 0.0071\n",
            "Epoch 3/5\n",
            "1563/1563 [==============================] - 17s 11ms/step - sparse_categorical_accuracy: 0.6809 - student_loss: 0.9154 - distillation_loss: 0.0060\n",
            "Epoch 4/5\n",
            "1563/1563 [==============================] - 17s 11ms/step - sparse_categorical_accuracy: 0.7218 - student_loss: 0.8023 - distillation_loss: 0.0053\n",
            "Epoch 5/5\n",
            "1563/1563 [==============================] - 17s 11ms/step - sparse_categorical_accuracy: 0.7485 - student_loss: 0.7273 - distillation_loss: 0.0049\n",
            "313/313 [==============================] - 2s 5ms/step - sparse_categorical_accuracy: 0.6846 - student_loss: 0.9451\n"
          ]
        },
        {
          "output_type": "execute_result",
          "data": {
            "text/plain": [
              "[0.6845999956130981, 1.4397974014282227]"
            ]
          },
          "metadata": {},
          "execution_count": 102
        }
      ]
    },
    {
      "cell_type": "code",
      "metadata": {
        "colab": {
          "base_uri": "https://localhost:8080/"
        },
        "id": "ztZ14zwCCife",
        "outputId": "8119bcb8-090f-420d-921e-0c0a62ba0786"
      },
      "source": [
        "# Train student \n",
        "student_scratch.compile(\n",
        "    optimizer=keras.optimizers.Adam(),\n",
        "    loss=keras.losses.SparseCategoricalCrossentropy(from_logits=True),\n",
        "    metrics=[keras.metrics.SparseCategoricalAccuracy()],\n",
        ")\n",
        "\n",
        "# Train and evaluate student trained from scratch.\n",
        "student_scratch.fit(x_train, y_train, epochs=5)\n",
        "student_scratch.evaluate(x_test, y_test)"
      ],
      "execution_count": null,
      "outputs": [
        {
          "output_type": "stream",
          "name": "stdout",
          "text": [
            "Epoch 1/5\n",
            "1563/1563 [==============================] - 15s 9ms/step - loss: 1.0938 - sparse_categorical_accuracy: 0.6135\n",
            "Epoch 2/5\n",
            "1563/1563 [==============================] - 14s 9ms/step - loss: 0.9330 - sparse_categorical_accuracy: 0.6764\n",
            "Epoch 3/5\n",
            "1563/1563 [==============================] - 14s 9ms/step - loss: 0.8260 - sparse_categorical_accuracy: 0.7127\n",
            "Epoch 4/5\n",
            "1563/1563 [==============================] - 14s 9ms/step - loss: 0.7254 - sparse_categorical_accuracy: 0.7460\n",
            "Epoch 5/5\n",
            "1563/1563 [==============================] - 14s 9ms/step - loss: 0.6640 - sparse_categorical_accuracy: 0.7703\n",
            "313/313 [==============================] - 2s 5ms/step - loss: 0.8921 - sparse_categorical_accuracy: 0.7039\n"
          ]
        },
        {
          "output_type": "execute_result",
          "data": {
            "text/plain": [
              "[0.8920611143112183, 0.7038999795913696]"
            ]
          },
          "metadata": {},
          "execution_count": 107
        }
      ]
    },
    {
      "cell_type": "code",
      "metadata": {
        "id": "kR8l1ZT49-UJ"
      },
      "source": [
        ""
      ],
      "execution_count": null,
      "outputs": []
    },
    {
      "cell_type": "code",
      "metadata": {
        "id": "WrJB9Rut9-Wy"
      },
      "source": [
        ""
      ],
      "execution_count": null,
      "outputs": []
    },
    {
      "cell_type": "code",
      "metadata": {
        "id": "an9kf0zX9-aM"
      },
      "source": [
        ""
      ],
      "execution_count": null,
      "outputs": []
    },
    {
      "cell_type": "code",
      "metadata": {
        "id": "drVnNE_L9-dH"
      },
      "source": [
        ""
      ],
      "execution_count": null,
      "outputs": []
    },
    {
      "cell_type": "code",
      "metadata": {
        "id": "Hv6s18i_Jfqq"
      },
      "source": [
        "student = keras.Sequential(\n",
        "    [\n",
        "        keras.Input(shape=(32, 32, 3)),\n",
        "        layers.Conv2D(64, (3, 3), strides=(2, 2), padding=\"same\"),\n",
        "        layers.LeakyReLU(alpha=0.2),\n",
        "        layers.Conv2D(64, (3, 3), strides=(2, 2), padding=\"same\"),\n",
        "        layers.LeakyReLU(alpha=0.2),\n",
        "        layers.MaxPooling2D(pool_size=(2, 2), strides=(1, 1), padding=\"same\"),\n",
        "        layers.Conv2D(128, (3, 3), strides=(2, 2), padding=\"same\"),\n",
        "        layers.LeakyReLU(alpha=0.2),\n",
        "        layers.Conv2D(128, (3, 3), strides=(2, 2), padding=\"same\"),\n",
        "        layers.LeakyReLU(alpha=0.2),\n",
        "        layers.MaxPooling2D(pool_size=(2, 2), strides=(1, 1), padding=\"same\"),\n",
        "        layers.Flatten(),\n",
        "        layers.Dense(128),\n",
        "        layers.Dropout(0.5),\n",
        "        layers.Dense(128),\n",
        "        layers.Dense(10),\n",
        "    ],\n",
        "    name=\"student\",\n",
        ")"
      ],
      "execution_count": null,
      "outputs": []
    },
    {
      "cell_type": "code",
      "metadata": {
        "colab": {
          "base_uri": "https://localhost:8080/"
        },
        "id": "Bd0Ey7HXF4kz",
        "outputId": "4f57fd92-fd76-424c-9bb0-a928105a18e5"
      },
      "source": [
        "# Initialize and compile distiller\n",
        "distiller = Distiller(student=student, teacher=teacher)\n",
        "distiller.compile(\n",
        "    optimizer=keras.optimizers.Adam(),\n",
        "    metrics=[keras.metrics.SparseCategoricalAccuracy()],\n",
        "    student_loss_fn=keras.losses.SparseCategoricalCrossentropy(from_logits=True),\n",
        "    distillation_loss_fn=keras.losses.KLDivergence(),\n",
        "    alpha=0.1,\n",
        "    temperature=2,\n",
        ")\n",
        "\n",
        "# Distill teacher to student\n",
        "distiller.fit(x_train, y_train, epochs=5)\n",
        "\n",
        "# Evaluate student on test dataset\n",
        "distiller.evaluate(x_test, y_test)"
      ],
      "execution_count": null,
      "outputs": [
        {
          "output_type": "stream",
          "name": "stdout",
          "text": [
            "Epoch 1/5\n",
            "1563/1563 [==============================] - 23s 14ms/step - sparse_categorical_accuracy: 0.4760 - student_loss: 1.8499 - distillation_loss: 0.0196\n",
            "Epoch 2/5\n",
            "1563/1563 [==============================] - 22s 14ms/step - sparse_categorical_accuracy: 0.6404 - student_loss: 1.6112 - distillation_loss: 0.0287\n",
            "Epoch 3/5\n",
            "1563/1563 [==============================] - 22s 14ms/step - sparse_categorical_accuracy: 0.6983 - student_loss: 1.5246 - distillation_loss: 0.0318\n",
            "Epoch 4/5\n",
            "1563/1563 [==============================] - 22s 14ms/step - sparse_categorical_accuracy: 0.7353 - student_loss: 1.4635 - distillation_loss: 0.0339\n",
            "Epoch 5/5\n",
            "1563/1563 [==============================] - 22s 14ms/step - sparse_categorical_accuracy: 0.7654 - student_loss: 1.4182 - distillation_loss: 0.0356\n",
            "313/313 [==============================] - 2s 5ms/step - sparse_categorical_accuracy: 0.7145 - student_loss: 1.4489\n"
          ]
        },
        {
          "output_type": "execute_result",
          "data": {
            "text/plain": [
              "[0.7145000100135803, 1.4703700542449951]"
            ]
          },
          "metadata": {},
          "execution_count": 49
        }
      ]
    },
    {
      "cell_type": "code",
      "metadata": {
        "colab": {
          "base_uri": "https://localhost:8080/"
        },
        "id": "kYWtm71FKTZj",
        "outputId": "325c5974-6d0a-49e0-d11e-f5e877574613"
      },
      "source": [
        "for T in [5,10,20,30,40]:\n",
        "  student = keras.Sequential(\n",
        "      [\n",
        "          keras.Input(shape=(32, 32, 3)),\n",
        "          layers.Conv2D(64, (3, 3), strides=(2, 2), padding=\"same\"),\n",
        "          layers.LeakyReLU(alpha=0.2),\n",
        "          layers.Conv2D(64, (3, 3), strides=(2, 2), padding=\"same\"),\n",
        "          layers.LeakyReLU(alpha=0.2),\n",
        "          layers.MaxPooling2D(pool_size=(2, 2), strides=(1, 1), padding=\"same\"),\n",
        "          layers.Conv2D(128, (3, 3), strides=(2, 2), padding=\"same\"),\n",
        "          layers.LeakyReLU(alpha=0.2),\n",
        "          layers.Conv2D(128, (3, 3), strides=(2, 2), padding=\"same\"),\n",
        "          layers.LeakyReLU(alpha=0.2),\n",
        "          layers.MaxPooling2D(pool_size=(2, 2), strides=(1, 1), padding=\"same\"),\n",
        "          layers.Flatten(),\n",
        "          layers.Dense(128),\n",
        "          layers.Dropout(0.5),\n",
        "          layers.Dense(128),\n",
        "          layers.Dense(10),\n",
        "      ],\n",
        "      name=\"student\",\n",
        "  )\n",
        "\n",
        "  # Initialize and compile distiller\n",
        "  distiller = Distiller(student=student, teacher=teacher)\n",
        "  distiller.compile(\n",
        "      optimizer=keras.optimizers.Adam(),\n",
        "      metrics=[keras.metrics.SparseCategoricalAccuracy()],\n",
        "      student_loss_fn=keras.losses.SparseCategoricalCrossentropy(from_logits=True),\n",
        "      distillation_loss_fn=keras.losses.KLDivergence(),\n",
        "      alpha=0.1,\n",
        "      temperature=T,\n",
        "  )\n",
        "\n",
        "  # Distill teacher to student\n",
        "  distiller.fit(x_train, y_train, epochs=5)\n",
        "\n",
        "  # Evaluate student on test dataset\n",
        "  print('Temp = ', T)\n",
        "  print(distiller.evaluate(x_test, y_test))"
      ],
      "execution_count": null,
      "outputs": [
        {
          "output_type": "stream",
          "name": "stdout",
          "text": [
            "Epoch 1/5\n",
            "1563/1563 [==============================] - 23s 14ms/step - sparse_categorical_accuracy: 0.4825 - student_loss: 1.5346 - distillation_loss: 0.0174\n",
            "Epoch 2/5\n",
            "1563/1563 [==============================] - 22s 14ms/step - sparse_categorical_accuracy: 0.6448 - student_loss: 1.1765 - distillation_loss: 0.0239\n",
            "Epoch 3/5\n",
            "1563/1563 [==============================] - 22s 14ms/step - sparse_categorical_accuracy: 0.7020 - student_loss: 1.0396 - distillation_loss: 0.0261\n",
            "Epoch 4/5\n",
            "1563/1563 [==============================] - 22s 14ms/step - sparse_categorical_accuracy: 0.7433 - student_loss: 0.9455 - distillation_loss: 0.0278\n",
            "Epoch 5/5\n",
            "1563/1563 [==============================] - 22s 14ms/step - sparse_categorical_accuracy: 0.7718 - student_loss: 0.8760 - distillation_loss: 0.0290\n",
            "Temp =  5\n",
            "313/313 [==============================] - 2s 5ms/step - sparse_categorical_accuracy: 0.7080 - student_loss: 0.9809\n",
            "[0.7080000042915344, 0.9686511754989624]\n",
            "Epoch 1/5\n",
            "1563/1563 [==============================] - 23s 14ms/step - sparse_categorical_accuracy: 0.4736 - student_loss: 1.4739 - distillation_loss: 0.0091\n",
            "Epoch 2/5\n",
            "1563/1563 [==============================] - 22s 14ms/step - sparse_categorical_accuracy: 0.6331 - student_loss: 1.0910 - distillation_loss: 0.0125\n",
            "Epoch 3/5\n",
            "1563/1563 [==============================] - 22s 14ms/step - sparse_categorical_accuracy: 0.6936 - student_loss: 0.9355 - distillation_loss: 0.0139\n",
            "Epoch 4/5\n",
            "1563/1563 [==============================] - 22s 14ms/step - sparse_categorical_accuracy: 0.7361 - student_loss: 0.8244 - distillation_loss: 0.0150\n",
            "Epoch 5/5\n",
            "1563/1563 [==============================] - 22s 14ms/step - sparse_categorical_accuracy: 0.7648 - student_loss: 0.7397 - distillation_loss: 0.0160\n",
            "Temp =  10\n",
            "313/313 [==============================] - 2s 5ms/step - sparse_categorical_accuracy: 0.7162 - student_loss: 0.8799\n",
            "[0.7161999940872192, 1.2952256202697754]\n",
            "Epoch 1/5\n",
            "1563/1563 [==============================] - 23s 14ms/step - sparse_categorical_accuracy: 0.4666 - student_loss: 1.4666 - distillation_loss: 0.0036\n",
            "Epoch 2/5\n",
            "1563/1563 [==============================] - 22s 14ms/step - sparse_categorical_accuracy: 0.6277 - student_loss: 1.0716 - distillation_loss: 0.0053\n",
            "Epoch 3/5\n",
            "1563/1563 [==============================] - 22s 14ms/step - sparse_categorical_accuracy: 0.6916 - student_loss: 0.9044 - distillation_loss: 0.0061\n",
            "Epoch 4/5\n",
            "1563/1563 [==============================] - 22s 14ms/step - sparse_categorical_accuracy: 0.7323 - student_loss: 0.7824 - distillation_loss: 0.0069\n",
            "Epoch 5/5\n",
            "1563/1563 [==============================] - 22s 14ms/step - sparse_categorical_accuracy: 0.7625 - student_loss: 0.7028 - distillation_loss: 0.0074\n",
            "Temp =  20\n",
            "313/313 [==============================] - 2s 5ms/step - sparse_categorical_accuracy: 0.7042 - student_loss: 0.8615\n",
            "[0.704200029373169, 1.0655959844589233]\n",
            "Epoch 1/5\n",
            "1563/1563 [==============================] - 23s 14ms/step - sparse_categorical_accuracy: 0.4700 - student_loss: 1.4570 - distillation_loss: 0.0020\n",
            "Epoch 2/5\n",
            "1563/1563 [==============================] - 22s 14ms/step - sparse_categorical_accuracy: 0.6336 - student_loss: 1.0541 - distillation_loss: 0.0030\n",
            "Epoch 3/5\n",
            "1563/1563 [==============================] - 22s 14ms/step - sparse_categorical_accuracy: 0.6892 - student_loss: 0.8946 - distillation_loss: 0.0035\n",
            "Epoch 4/5\n",
            "1563/1563 [==============================] - 22s 14ms/step - sparse_categorical_accuracy: 0.7301 - student_loss: 0.7806 - distillation_loss: 0.0040\n",
            "Epoch 5/5\n",
            "1563/1563 [==============================] - 22s 14ms/step - sparse_categorical_accuracy: 0.7558 - student_loss: 0.7038 - distillation_loss: 0.0043\n",
            "Temp =  30\n",
            "313/313 [==============================] - 2s 5ms/step - sparse_categorical_accuracy: 0.7045 - student_loss: 0.8619\n",
            "[0.7045000195503235, 0.7807865738868713]\n",
            "Epoch 1/5\n",
            "1563/1563 [==============================] - 23s 14ms/step - sparse_categorical_accuracy: 0.4678 - student_loss: 1.4667 - distillation_loss: 0.0012\n",
            "Epoch 2/5\n",
            "1563/1563 [==============================] - 22s 14ms/step - sparse_categorical_accuracy: 0.6251 - student_loss: 1.0734 - distillation_loss: 0.0019\n",
            "Epoch 3/5\n",
            "1563/1563 [==============================] - 22s 14ms/step - sparse_categorical_accuracy: 0.6822 - student_loss: 0.9095 - distillation_loss: 0.0023\n",
            "Epoch 4/5\n",
            "1563/1563 [==============================] - 22s 14ms/step - sparse_categorical_accuracy: 0.7249 - student_loss: 0.7956 - distillation_loss: 0.0026\n",
            "Epoch 5/5\n",
            "1563/1563 [==============================] - 22s 14ms/step - sparse_categorical_accuracy: 0.7542 - student_loss: 0.7103 - distillation_loss: 0.0029\n",
            "Temp =  40\n",
            "313/313 [==============================] - 2s 5ms/step - sparse_categorical_accuracy: 0.7043 - student_loss: 0.8775\n",
            "[0.7042999863624573, 1.0799801349639893]\n"
          ]
        }
      ]
    },
    {
      "cell_type": "code",
      "metadata": {
        "id": "aGeLDa8yKlEc"
      },
      "source": [
        ""
      ],
      "execution_count": null,
      "outputs": []
    },
    {
      "cell_type": "markdown",
      "metadata": {
        "id": "UbE-OV2hV1Oi"
      },
      "source": [
        "#Testing old model for CIFAR10\n"
      ]
    },
    {
      "cell_type": "code",
      "metadata": {
        "id": "SyhJUmJ9V4pz"
      },
      "source": [
        "# Create the teacher\n",
        "teacher = keras.Sequential(\n",
        "    [\n",
        "        keras.Input(shape=(32, 32, 3)),\n",
        "        layers.Conv2D(64, (3, 3), strides=(2, 2), padding=\"same\"),\n",
        "        layers.LeakyReLU(alpha=0.2),\n",
        "        layers.Conv2D(64, (3, 3), strides=(2, 2), padding=\"same\"),\n",
        "        layers.LeakyReLU(alpha=0.2),\n",
        "        layers.MaxPooling2D(pool_size=(2, 2), strides=(1, 1), padding=\"same\"),\n",
        "        layers.Conv2D(128, (3, 3), strides=(2, 2), padding=\"same\"),\n",
        "        layers.LeakyReLU(alpha=0.2),\n",
        "        layers.Conv2D(128, (3, 3), strides=(2, 2), padding=\"same\"),\n",
        "        layers.LeakyReLU(alpha=0.2),\n",
        "        layers.MaxPooling2D(pool_size=(2, 2), strides=(1, 1), padding=\"same\"),\n",
        "        layers.Flatten(),\n",
        "        layers.Dense(256),\n",
        "        layers.Dropout(0.5),\n",
        "        layers.Dense(256),\n",
        "        layers.Dropout(0.5),\n",
        "        layers.Dense(10),\n",
        "    ],\n",
        "    name=\"teacher\",\n",
        ")\n",
        "\n",
        "# Create the student\n",
        "student = keras.Sequential(\n",
        "    [\n",
        "        keras.Input(shape=(32, 32, 3)),\n",
        "        layers.Conv2D(16, (3, 3), strides=(2, 2), padding=\"same\"),\n",
        "        layers.LeakyReLU(alpha=0.2),\n",
        "        layers.MaxPooling2D(pool_size=(2, 2), strides=(1, 1), padding=\"same\"),\n",
        "        layers.Conv2D(32, (3, 3), strides=(2, 2), padding=\"same\"),\n",
        "        layers.Flatten(),\n",
        "        layers.Dense(10),\n",
        "    ],\n",
        "    name=\"student\",\n",
        ")\n",
        "\n",
        "# Clone student for later comparison\n",
        "student_scratch = keras.models.clone_model(student)"
      ],
      "execution_count": null,
      "outputs": []
    },
    {
      "cell_type": "code",
      "metadata": {
        "colab": {
          "base_uri": "https://localhost:8080/"
        },
        "id": "iqyHkiHHV5cp",
        "outputId": "c764d683-5213-4e84-e9b3-1c3531d5b114"
      },
      "source": [
        "# Train teacher as usual\n",
        "teacher.compile(\n",
        "    optimizer=keras.optimizers.Adam(),\n",
        "    loss=keras.losses.SparseCategoricalCrossentropy(from_logits=True),\n",
        "    metrics=[keras.metrics.SparseCategoricalAccuracy()],\n",
        ")\n",
        "\n",
        "# Train and evaluate teacher on data.\n",
        "teacher.fit(x_train, y_train, epochs=20,validation_split=0.1)\n",
        "teacher.evaluate(x_test, y_test)"
      ],
      "execution_count": null,
      "outputs": [
        {
          "output_type": "stream",
          "name": "stdout",
          "text": [
            "Epoch 1/20\n",
            "1407/1407 [==============================] - 17s 12ms/step - loss: 1.5213 - sparse_categorical_accuracy: 0.4454 - val_loss: 1.2452 - val_sparse_categorical_accuracy: 0.5482\n",
            "Epoch 2/20\n",
            "1407/1407 [==============================] - 15s 11ms/step - loss: 1.1253 - sparse_categorical_accuracy: 0.6080 - val_loss: 0.9894 - val_sparse_categorical_accuracy: 0.6496\n",
            "Epoch 3/20\n",
            "1407/1407 [==============================] - 15s 11ms/step - loss: 0.9659 - sparse_categorical_accuracy: 0.6662 - val_loss: 0.9021 - val_sparse_categorical_accuracy: 0.6890\n",
            "Epoch 4/20\n",
            "1407/1407 [==============================] - 15s 11ms/step - loss: 0.8630 - sparse_categorical_accuracy: 0.7026 - val_loss: 0.9233 - val_sparse_categorical_accuracy: 0.6802\n",
            "Epoch 5/20\n",
            "1407/1407 [==============================] - 14s 10ms/step - loss: 0.7819 - sparse_categorical_accuracy: 0.7297 - val_loss: 0.8963 - val_sparse_categorical_accuracy: 0.7028\n",
            "Epoch 6/20\n",
            "1407/1407 [==============================] - 15s 11ms/step - loss: 0.7149 - sparse_categorical_accuracy: 0.7536 - val_loss: 0.9123 - val_sparse_categorical_accuracy: 0.6978\n",
            "Epoch 7/20\n",
            "1407/1407 [==============================] - 15s 10ms/step - loss: 0.6587 - sparse_categorical_accuracy: 0.7732 - val_loss: 0.8818 - val_sparse_categorical_accuracy: 0.7184\n",
            "Epoch 8/20\n",
            "1407/1407 [==============================] - 15s 10ms/step - loss: 0.6038 - sparse_categorical_accuracy: 0.7930 - val_loss: 0.9631 - val_sparse_categorical_accuracy: 0.7030\n",
            "Epoch 9/20\n",
            "1407/1407 [==============================] - 14s 10ms/step - loss: 0.5581 - sparse_categorical_accuracy: 0.8089 - val_loss: 0.9895 - val_sparse_categorical_accuracy: 0.7056\n",
            "Epoch 10/20\n",
            "1407/1407 [==============================] - 15s 10ms/step - loss: 0.5096 - sparse_categorical_accuracy: 0.8268 - val_loss: 1.0412 - val_sparse_categorical_accuracy: 0.6984\n",
            "Epoch 11/20\n",
            "1407/1407 [==============================] - 15s 10ms/step - loss: 0.4808 - sparse_categorical_accuracy: 0.8351 - val_loss: 1.0422 - val_sparse_categorical_accuracy: 0.7134\n",
            "Epoch 12/20\n",
            "1407/1407 [==============================] - 15s 11ms/step - loss: 0.4489 - sparse_categorical_accuracy: 0.8472 - val_loss: 1.0822 - val_sparse_categorical_accuracy: 0.7104\n",
            "Epoch 13/20\n",
            "1407/1407 [==============================] - 15s 10ms/step - loss: 0.4242 - sparse_categorical_accuracy: 0.8563 - val_loss: 1.1834 - val_sparse_categorical_accuracy: 0.7036\n",
            "Epoch 14/20\n",
            "1407/1407 [==============================] - 15s 11ms/step - loss: 0.4038 - sparse_categorical_accuracy: 0.8618 - val_loss: 1.2890 - val_sparse_categorical_accuracy: 0.6810\n",
            "Epoch 15/20\n",
            "1407/1407 [==============================] - 15s 10ms/step - loss: 0.3777 - sparse_categorical_accuracy: 0.8724 - val_loss: 1.2702 - val_sparse_categorical_accuracy: 0.6982\n",
            "Epoch 16/20\n",
            "1407/1407 [==============================] - 15s 11ms/step - loss: 0.3638 - sparse_categorical_accuracy: 0.8779 - val_loss: 1.3389 - val_sparse_categorical_accuracy: 0.6966\n",
            "Epoch 17/20\n",
            "1407/1407 [==============================] - 15s 11ms/step - loss: 0.3501 - sparse_categorical_accuracy: 0.8855 - val_loss: 1.3445 - val_sparse_categorical_accuracy: 0.7010\n",
            "Epoch 18/20\n",
            "1407/1407 [==============================] - 15s 11ms/step - loss: 0.3399 - sparse_categorical_accuracy: 0.8888 - val_loss: 1.3892 - val_sparse_categorical_accuracy: 0.6984\n",
            "Epoch 19/20\n",
            "1407/1407 [==============================] - 14s 10ms/step - loss: 0.3330 - sparse_categorical_accuracy: 0.8930 - val_loss: 1.4726 - val_sparse_categorical_accuracy: 0.6894\n",
            "Epoch 20/20\n",
            "1407/1407 [==============================] - 15s 10ms/step - loss: 0.3264 - sparse_categorical_accuracy: 0.8940 - val_loss: 1.5569 - val_sparse_categorical_accuracy: 0.6786\n",
            "313/313 [==============================] - 2s 5ms/step - loss: 1.6274 - sparse_categorical_accuracy: 0.6682\n"
          ]
        },
        {
          "output_type": "execute_result",
          "data": {
            "text/plain": [
              "[1.6273808479309082, 0.6682000160217285]"
            ]
          },
          "metadata": {},
          "execution_count": 62
        }
      ]
    },
    {
      "cell_type": "code",
      "metadata": {
        "id": "Y3gcxN6-WAYZ"
      },
      "source": [
        ""
      ],
      "execution_count": null,
      "outputs": []
    }
  ]
}